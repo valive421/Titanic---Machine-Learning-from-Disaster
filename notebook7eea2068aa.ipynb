{
 "cells": [
  {
   "cell_type": "code",
   "execution_count": 1,
   "id": "d522ad07",
   "metadata": {
    "_cell_guid": "b1076dfc-b9ad-4769-8c92-a6c4dae69d19",
    "_uuid": "8f2839f25d086af736a60e9eeb907d3b93b6e0e5",
    "execution": {
     "iopub.execute_input": "2024-02-07T15:44:21.329366Z",
     "iopub.status.busy": "2024-02-07T15:44:21.328968Z",
     "iopub.status.idle": "2024-02-07T15:44:22.529050Z",
     "shell.execute_reply": "2024-02-07T15:44:22.527613Z"
    },
    "papermill": {
     "duration": 1.213889,
     "end_time": "2024-02-07T15:44:22.532091",
     "exception": false,
     "start_time": "2024-02-07T15:44:21.318202",
     "status": "completed"
    },
    "tags": []
   },
   "outputs": [
    {
     "name": "stdout",
     "output_type": "stream",
     "text": [
      "/kaggle/input/titanic/train.csv\n",
      "/kaggle/input/titanic/test.csv\n",
      "/kaggle/input/titanic/gender_submission.csv\n"
     ]
    }
   ],
   "source": [
    "# This Python 3 environment comes with many helpful analytics libraries installed\n",
    "# It is defined by the kaggle/python Docker image: https://github.com/kaggle/docker-python\n",
    "# For example, here's several helpful packages to load\n",
    "\n",
    "import numpy as np # linear algebra\n",
    "import pandas as pd # data processing, CSV file I/O (e.g. pd.read_csv)\n",
    "\n",
    "# Input data files are available in the read-only \"../input/\" directory\n",
    "# For example, running this (by clicking run or pressing Shift+Enter) will list all files under the input directory\n",
    "\n",
    "import os\n",
    "for dirname, _, filenames in os.walk('/kaggle/input'):\n",
    "    for filename in filenames:\n",
    "        print(os.path.join(dirname, filename))\n",
    "\n",
    "# You can write up to 20GB to the current directory (/kaggle/working/) that gets preserved as output when you create a version using \"Save & Run All\" \n",
    "# You can also write temporary files to /kaggle/temp/, but they won't be saved outside of the current session"
   ]
  },
  {
   "cell_type": "code",
   "execution_count": 2,
   "id": "49c3a7aa",
   "metadata": {
    "execution": {
     "iopub.execute_input": "2024-02-07T15:44:22.554723Z",
     "iopub.status.busy": "2024-02-07T15:44:22.553816Z",
     "iopub.status.idle": "2024-02-07T15:44:22.599952Z",
     "shell.execute_reply": "2024-02-07T15:44:22.599005Z"
    },
    "papermill": {
     "duration": 0.060974,
     "end_time": "2024-02-07T15:44:22.603239",
     "exception": false,
     "start_time": "2024-02-07T15:44:22.542265",
     "status": "completed"
    },
    "tags": []
   },
   "outputs": [
    {
     "data": {
      "text/html": [
       "<div>\n",
       "<style scoped>\n",
       "    .dataframe tbody tr th:only-of-type {\n",
       "        vertical-align: middle;\n",
       "    }\n",
       "\n",
       "    .dataframe tbody tr th {\n",
       "        vertical-align: top;\n",
       "    }\n",
       "\n",
       "    .dataframe thead th {\n",
       "        text-align: right;\n",
       "    }\n",
       "</style>\n",
       "<table border=\"1\" class=\"dataframe\">\n",
       "  <thead>\n",
       "    <tr style=\"text-align: right;\">\n",
       "      <th></th>\n",
       "      <th>PassengerId</th>\n",
       "      <th>Survived</th>\n",
       "      <th>Pclass</th>\n",
       "      <th>Name</th>\n",
       "      <th>Sex</th>\n",
       "      <th>Age</th>\n",
       "      <th>SibSp</th>\n",
       "      <th>Parch</th>\n",
       "      <th>Ticket</th>\n",
       "      <th>Fare</th>\n",
       "      <th>Cabin</th>\n",
       "      <th>Embarked</th>\n",
       "    </tr>\n",
       "  </thead>\n",
       "  <tbody>\n",
       "    <tr>\n",
       "      <th>0</th>\n",
       "      <td>1</td>\n",
       "      <td>0</td>\n",
       "      <td>3</td>\n",
       "      <td>Braund, Mr. Owen Harris</td>\n",
       "      <td>male</td>\n",
       "      <td>22.0</td>\n",
       "      <td>1</td>\n",
       "      <td>0</td>\n",
       "      <td>A/5 21171</td>\n",
       "      <td>7.2500</td>\n",
       "      <td>NaN</td>\n",
       "      <td>S</td>\n",
       "    </tr>\n",
       "    <tr>\n",
       "      <th>1</th>\n",
       "      <td>2</td>\n",
       "      <td>1</td>\n",
       "      <td>1</td>\n",
       "      <td>Cumings, Mrs. John Bradley (Florence Briggs Th...</td>\n",
       "      <td>female</td>\n",
       "      <td>38.0</td>\n",
       "      <td>1</td>\n",
       "      <td>0</td>\n",
       "      <td>PC 17599</td>\n",
       "      <td>71.2833</td>\n",
       "      <td>C85</td>\n",
       "      <td>C</td>\n",
       "    </tr>\n",
       "    <tr>\n",
       "      <th>2</th>\n",
       "      <td>3</td>\n",
       "      <td>1</td>\n",
       "      <td>3</td>\n",
       "      <td>Heikkinen, Miss. Laina</td>\n",
       "      <td>female</td>\n",
       "      <td>26.0</td>\n",
       "      <td>0</td>\n",
       "      <td>0</td>\n",
       "      <td>STON/O2. 3101282</td>\n",
       "      <td>7.9250</td>\n",
       "      <td>NaN</td>\n",
       "      <td>S</td>\n",
       "    </tr>\n",
       "    <tr>\n",
       "      <th>3</th>\n",
       "      <td>4</td>\n",
       "      <td>1</td>\n",
       "      <td>1</td>\n",
       "      <td>Futrelle, Mrs. Jacques Heath (Lily May Peel)</td>\n",
       "      <td>female</td>\n",
       "      <td>35.0</td>\n",
       "      <td>1</td>\n",
       "      <td>0</td>\n",
       "      <td>113803</td>\n",
       "      <td>53.1000</td>\n",
       "      <td>C123</td>\n",
       "      <td>S</td>\n",
       "    </tr>\n",
       "    <tr>\n",
       "      <th>4</th>\n",
       "      <td>5</td>\n",
       "      <td>0</td>\n",
       "      <td>3</td>\n",
       "      <td>Allen, Mr. William Henry</td>\n",
       "      <td>male</td>\n",
       "      <td>35.0</td>\n",
       "      <td>0</td>\n",
       "      <td>0</td>\n",
       "      <td>373450</td>\n",
       "      <td>8.0500</td>\n",
       "      <td>NaN</td>\n",
       "      <td>S</td>\n",
       "    </tr>\n",
       "  </tbody>\n",
       "</table>\n",
       "</div>"
      ],
      "text/plain": [
       "   PassengerId  Survived  Pclass  \\\n",
       "0            1         0       3   \n",
       "1            2         1       1   \n",
       "2            3         1       3   \n",
       "3            4         1       1   \n",
       "4            5         0       3   \n",
       "\n",
       "                                                Name     Sex   Age  SibSp  \\\n",
       "0                            Braund, Mr. Owen Harris    male  22.0      1   \n",
       "1  Cumings, Mrs. John Bradley (Florence Briggs Th...  female  38.0      1   \n",
       "2                             Heikkinen, Miss. Laina  female  26.0      0   \n",
       "3       Futrelle, Mrs. Jacques Heath (Lily May Peel)  female  35.0      1   \n",
       "4                           Allen, Mr. William Henry    male  35.0      0   \n",
       "\n",
       "   Parch            Ticket     Fare Cabin Embarked  \n",
       "0      0         A/5 21171   7.2500   NaN        S  \n",
       "1      0          PC 17599  71.2833   C85        C  \n",
       "2      0  STON/O2. 3101282   7.9250   NaN        S  \n",
       "3      0            113803  53.1000  C123        S  \n",
       "4      0            373450   8.0500   NaN        S  "
      ]
     },
     "execution_count": 2,
     "metadata": {},
     "output_type": "execute_result"
    }
   ],
   "source": [
    "train_data = pd.read_csv(\"/kaggle/input/titanic/train.csv\")\n",
    "train_data.head()"
   ]
  },
  {
   "cell_type": "code",
   "execution_count": 3,
   "id": "b2eb6426",
   "metadata": {
    "execution": {
     "iopub.execute_input": "2024-02-07T15:44:22.626333Z",
     "iopub.status.busy": "2024-02-07T15:44:22.625782Z",
     "iopub.status.idle": "2024-02-07T15:44:22.644222Z",
     "shell.execute_reply": "2024-02-07T15:44:22.642672Z"
    },
    "papermill": {
     "duration": 0.033577,
     "end_time": "2024-02-07T15:44:22.647254",
     "exception": false,
     "start_time": "2024-02-07T15:44:22.613677",
     "status": "completed"
    },
    "tags": []
   },
   "outputs": [],
   "source": [
    "test_data = pd.read_csv(\"/kaggle/input/titanic/test.csv\")\n",
    "test_data.isnull().sum()\n",
    "test = test_data"
   ]
  },
  {
   "cell_type": "code",
   "execution_count": 4,
   "id": "bdce73bf",
   "metadata": {
    "execution": {
     "iopub.execute_input": "2024-02-07T15:44:22.670139Z",
     "iopub.status.busy": "2024-02-07T15:44:22.669717Z",
     "iopub.status.idle": "2024-02-07T15:44:22.686903Z",
     "shell.execute_reply": "2024-02-07T15:44:22.685851Z"
    },
    "papermill": {
     "duration": 0.032161,
     "end_time": "2024-02-07T15:44:22.690021",
     "exception": false,
     "start_time": "2024-02-07T15:44:22.657860",
     "status": "completed"
    },
    "tags": []
   },
   "outputs": [],
   "source": [
    "X = train_data.drop(\"Survived\",axis=1)\n",
    "\n",
    "y = train_data.Survived\n"
   ]
  },
  {
   "cell_type": "code",
   "execution_count": 5,
   "id": "c7d3ed0a",
   "metadata": {
    "execution": {
     "iopub.execute_input": "2024-02-07T15:44:22.710516Z",
     "iopub.status.busy": "2024-02-07T15:44:22.710059Z",
     "iopub.status.idle": "2024-02-07T15:44:22.721041Z",
     "shell.execute_reply": "2024-02-07T15:44:22.719829Z"
    },
    "papermill": {
     "duration": 0.024712,
     "end_time": "2024-02-07T15:44:22.723935",
     "exception": false,
     "start_time": "2024-02-07T15:44:22.699223",
     "status": "completed"
    },
    "tags": []
   },
   "outputs": [
    {
     "data": {
      "text/plain": [
       "PassengerId      0\n",
       "Pclass           0\n",
       "Name             0\n",
       "Sex              0\n",
       "Age            177\n",
       "SibSp            0\n",
       "Parch            0\n",
       "Ticket           0\n",
       "Fare             0\n",
       "Cabin          687\n",
       "Embarked         2\n",
       "dtype: int64"
      ]
     },
     "execution_count": 5,
     "metadata": {},
     "output_type": "execute_result"
    }
   ],
   "source": [
    "X.isnull().sum()"
   ]
  },
  {
   "cell_type": "code",
   "execution_count": 6,
   "id": "5cfaddc6",
   "metadata": {
    "execution": {
     "iopub.execute_input": "2024-02-07T15:44:22.746497Z",
     "iopub.status.busy": "2024-02-07T15:44:22.745774Z",
     "iopub.status.idle": "2024-02-07T15:44:22.762295Z",
     "shell.execute_reply": "2024-02-07T15:44:22.761269Z"
    },
    "papermill": {
     "duration": 0.030331,
     "end_time": "2024-02-07T15:44:22.765054",
     "exception": false,
     "start_time": "2024-02-07T15:44:22.734723",
     "status": "completed"
    },
    "tags": []
   },
   "outputs": [],
   "source": [
    "cato = []\n",
    "numo = []\n",
    "for i in X.columns:\n",
    "    if X[i].nunique()<=10 and X[i].dtypes==\"object\":\n",
    "        cato.append(i)\n",
    "for i in X.columns:\n",
    "    if X[i].dtypes==\"int64\":\n",
    "        numo.append(i)\n",
    "        "
   ]
  },
  {
   "cell_type": "code",
   "execution_count": 7,
   "id": "fb140d60",
   "metadata": {
    "execution": {
     "iopub.execute_input": "2024-02-07T15:44:22.785946Z",
     "iopub.status.busy": "2024-02-07T15:44:22.785222Z",
     "iopub.status.idle": "2024-02-07T15:44:22.793256Z",
     "shell.execute_reply": "2024-02-07T15:44:22.792003Z"
    },
    "papermill": {
     "duration": 0.021247,
     "end_time": "2024-02-07T15:44:22.795701",
     "exception": false,
     "start_time": "2024-02-07T15:44:22.774454",
     "status": "completed"
    },
    "tags": []
   },
   "outputs": [
    {
     "data": {
      "text/plain": [
       "['PassengerId', 'Pclass', 'SibSp', 'Parch']"
      ]
     },
     "execution_count": 7,
     "metadata": {},
     "output_type": "execute_result"
    }
   ],
   "source": [
    "numo"
   ]
  },
  {
   "cell_type": "code",
   "execution_count": 8,
   "id": "8f27e078",
   "metadata": {
    "execution": {
     "iopub.execute_input": "2024-02-07T15:44:22.817349Z",
     "iopub.status.busy": "2024-02-07T15:44:22.816627Z",
     "iopub.status.idle": "2024-02-07T15:44:22.823956Z",
     "shell.execute_reply": "2024-02-07T15:44:22.822768Z"
    },
    "papermill": {
     "duration": 0.021178,
     "end_time": "2024-02-07T15:44:22.826333",
     "exception": false,
     "start_time": "2024-02-07T15:44:22.805155",
     "status": "completed"
    },
    "tags": []
   },
   "outputs": [
    {
     "data": {
      "text/plain": [
       "['Sex', 'Embarked']"
      ]
     },
     "execution_count": 8,
     "metadata": {},
     "output_type": "execute_result"
    }
   ],
   "source": [
    "X.Ticket\n",
    "cato"
   ]
  },
  {
   "cell_type": "code",
   "execution_count": 9,
   "id": "49aa4aa0",
   "metadata": {
    "execution": {
     "iopub.execute_input": "2024-02-07T15:44:22.850204Z",
     "iopub.status.busy": "2024-02-07T15:44:22.849507Z",
     "iopub.status.idle": "2024-02-07T15:44:24.826674Z",
     "shell.execute_reply": "2024-02-07T15:44:24.825058Z"
    },
    "papermill": {
     "duration": 1.992986,
     "end_time": "2024-02-07T15:44:24.829842",
     "exception": false,
     "start_time": "2024-02-07T15:44:22.836856",
     "status": "completed"
    },
    "tags": []
   },
   "outputs": [],
   "source": [
    "from sklearn.impute import SimpleImputer\n",
    "si = SimpleImputer(missing_values=np.nan, strategy='mean')\n",
    "imputed_int_X = pd.DataFrame(si.fit_transform(X[numo]))\n",
    "si = SimpleImputer(missing_values=np.nan, strategy='most_frequent')\n",
    "imputed_cato_X = pd.DataFrame(si.fit_transform(X[cato]))\n",
    "\n",
    "si = SimpleImputer(missing_values=np.nan, strategy='mean')\n",
    "imputed_int_test = pd.DataFrame(si.fit_transform(test[numo]))\n",
    "si = SimpleImputer(missing_values=np.nan, strategy='most_frequent')\n",
    "imputed_cato_test = pd.DataFrame(si.fit_transform(test[cato]))"
   ]
  },
  {
   "cell_type": "code",
   "execution_count": 10,
   "id": "44d2d41c",
   "metadata": {
    "execution": {
     "iopub.execute_input": "2024-02-07T15:44:24.851391Z",
     "iopub.status.busy": "2024-02-07T15:44:24.850896Z",
     "iopub.status.idle": "2024-02-07T15:44:24.858463Z",
     "shell.execute_reply": "2024-02-07T15:44:24.856665Z"
    },
    "papermill": {
     "duration": 0.021618,
     "end_time": "2024-02-07T15:44:24.861259",
     "exception": false,
     "start_time": "2024-02-07T15:44:24.839641",
     "status": "completed"
    },
    "tags": []
   },
   "outputs": [],
   "source": [
    "imputed_int_X.columns = numo\n",
    "imputed_cato_X.columns = cato\n",
    "imputed_int_test.columns = numo\n",
    "imputed_cato_test.columns = cato\n"
   ]
  },
  {
   "cell_type": "code",
   "execution_count": 11,
   "id": "65781ed4",
   "metadata": {
    "execution": {
     "iopub.execute_input": "2024-02-07T15:44:24.884514Z",
     "iopub.status.busy": "2024-02-07T15:44:24.884057Z",
     "iopub.status.idle": "2024-02-07T15:44:24.894050Z",
     "shell.execute_reply": "2024-02-07T15:44:24.892759Z"
    },
    "papermill": {
     "duration": 0.024747,
     "end_time": "2024-02-07T15:44:24.896440",
     "exception": false,
     "start_time": "2024-02-07T15:44:24.871693",
     "status": "completed"
    },
    "tags": []
   },
   "outputs": [
    {
     "data": {
      "text/plain": [
       "Sex         2\n",
       "Embarked    3\n",
       "dtype: int64"
      ]
     },
     "execution_count": 11,
     "metadata": {},
     "output_type": "execute_result"
    }
   ],
   "source": [
    "imputed_cato_X.nunique()"
   ]
  },
  {
   "cell_type": "code",
   "execution_count": 12,
   "id": "6f5763fa",
   "metadata": {
    "execution": {
     "iopub.execute_input": "2024-02-07T15:44:24.918233Z",
     "iopub.status.busy": "2024-02-07T15:44:24.917786Z",
     "iopub.status.idle": "2024-02-07T15:44:24.942538Z",
     "shell.execute_reply": "2024-02-07T15:44:24.941176Z"
    },
    "papermill": {
     "duration": 0.038817,
     "end_time": "2024-02-07T15:44:24.945385",
     "exception": false,
     "start_time": "2024-02-07T15:44:24.906568",
     "status": "completed"
    },
    "tags": []
   },
   "outputs": [
    {
     "data": {
      "text/html": [
       "<div>\n",
       "<style scoped>\n",
       "    .dataframe tbody tr th:only-of-type {\n",
       "        vertical-align: middle;\n",
       "    }\n",
       "\n",
       "    .dataframe tbody tr th {\n",
       "        vertical-align: top;\n",
       "    }\n",
       "\n",
       "    .dataframe thead th {\n",
       "        text-align: right;\n",
       "    }\n",
       "</style>\n",
       "<table border=\"1\" class=\"dataframe\">\n",
       "  <thead>\n",
       "    <tr style=\"text-align: right;\">\n",
       "      <th></th>\n",
       "      <th>0</th>\n",
       "      <th>1</th>\n",
       "    </tr>\n",
       "  </thead>\n",
       "  <tbody>\n",
       "    <tr>\n",
       "      <th>0</th>\n",
       "      <td>1.0</td>\n",
       "      <td>2.0</td>\n",
       "    </tr>\n",
       "    <tr>\n",
       "      <th>1</th>\n",
       "      <td>0.0</td>\n",
       "      <td>0.0</td>\n",
       "    </tr>\n",
       "    <tr>\n",
       "      <th>2</th>\n",
       "      <td>0.0</td>\n",
       "      <td>2.0</td>\n",
       "    </tr>\n",
       "    <tr>\n",
       "      <th>3</th>\n",
       "      <td>0.0</td>\n",
       "      <td>2.0</td>\n",
       "    </tr>\n",
       "    <tr>\n",
       "      <th>4</th>\n",
       "      <td>1.0</td>\n",
       "      <td>2.0</td>\n",
       "    </tr>\n",
       "    <tr>\n",
       "      <th>...</th>\n",
       "      <td>...</td>\n",
       "      <td>...</td>\n",
       "    </tr>\n",
       "    <tr>\n",
       "      <th>886</th>\n",
       "      <td>1.0</td>\n",
       "      <td>2.0</td>\n",
       "    </tr>\n",
       "    <tr>\n",
       "      <th>887</th>\n",
       "      <td>0.0</td>\n",
       "      <td>2.0</td>\n",
       "    </tr>\n",
       "    <tr>\n",
       "      <th>888</th>\n",
       "      <td>0.0</td>\n",
       "      <td>2.0</td>\n",
       "    </tr>\n",
       "    <tr>\n",
       "      <th>889</th>\n",
       "      <td>1.0</td>\n",
       "      <td>0.0</td>\n",
       "    </tr>\n",
       "    <tr>\n",
       "      <th>890</th>\n",
       "      <td>1.0</td>\n",
       "      <td>1.0</td>\n",
       "    </tr>\n",
       "  </tbody>\n",
       "</table>\n",
       "<p>891 rows × 2 columns</p>\n",
       "</div>"
      ],
      "text/plain": [
       "       0    1\n",
       "0    1.0  2.0\n",
       "1    0.0  0.0\n",
       "2    0.0  2.0\n",
       "3    0.0  2.0\n",
       "4    1.0  2.0\n",
       "..   ...  ...\n",
       "886  1.0  2.0\n",
       "887  0.0  2.0\n",
       "888  0.0  2.0\n",
       "889  1.0  0.0\n",
       "890  1.0  1.0\n",
       "\n",
       "[891 rows x 2 columns]"
      ]
     },
     "execution_count": 12,
     "metadata": {},
     "output_type": "execute_result"
    }
   ],
   "source": [
    "from sklearn.preprocessing import OrdinalEncoder\n",
    "ordinal_encoder = OrdinalEncoder()\n",
    "imputed_cato_X= pd.DataFrame(ordinal_encoder.fit_transform(imputed_cato_X))\n",
    "\n",
    "\n",
    "imputed_cato_test= pd.DataFrame(ordinal_encoder.fit_transform(imputed_cato_test))\n",
    "imputed_cato_X"
   ]
  },
  {
   "cell_type": "code",
   "execution_count": 13,
   "id": "d6a0dbdb",
   "metadata": {
    "execution": {
     "iopub.execute_input": "2024-02-07T15:44:24.968567Z",
     "iopub.status.busy": "2024-02-07T15:44:24.967221Z",
     "iopub.status.idle": "2024-02-07T15:44:24.974858Z",
     "shell.execute_reply": "2024-02-07T15:44:24.973837Z"
    },
    "papermill": {
     "duration": 0.022084,
     "end_time": "2024-02-07T15:44:24.977560",
     "exception": false,
     "start_time": "2024-02-07T15:44:24.955476",
     "status": "completed"
    },
    "tags": []
   },
   "outputs": [],
   "source": [
    "\n",
    "\n",
    "\n",
    "final_X = pd.concat([imputed_int_X,imputed_cato_X],axis=1)\n",
    "final_test = pd.concat([imputed_int_test,imputed_cato_test],axis=1)"
   ]
  },
  {
   "cell_type": "code",
   "execution_count": 14,
   "id": "2e33a9dd",
   "metadata": {
    "execution": {
     "iopub.execute_input": "2024-02-07T15:44:25.000635Z",
     "iopub.status.busy": "2024-02-07T15:44:24.999905Z",
     "iopub.status.idle": "2024-02-07T15:44:25.005552Z",
     "shell.execute_reply": "2024-02-07T15:44:25.004333Z"
    },
    "papermill": {
     "duration": 0.019978,
     "end_time": "2024-02-07T15:44:25.008305",
     "exception": false,
     "start_time": "2024-02-07T15:44:24.988327",
     "status": "completed"
    },
    "tags": []
   },
   "outputs": [],
   "source": [
    "X =final_X"
   ]
  },
  {
   "cell_type": "code",
   "execution_count": 15,
   "id": "22ac5fc9",
   "metadata": {
    "execution": {
     "iopub.execute_input": "2024-02-07T15:44:25.030928Z",
     "iopub.status.busy": "2024-02-07T15:44:25.029979Z",
     "iopub.status.idle": "2024-02-07T15:44:25.051810Z",
     "shell.execute_reply": "2024-02-07T15:44:25.050548Z"
    },
    "papermill": {
     "duration": 0.03613,
     "end_time": "2024-02-07T15:44:25.054489",
     "exception": false,
     "start_time": "2024-02-07T15:44:25.018359",
     "status": "completed"
    },
    "tags": []
   },
   "outputs": [
    {
     "data": {
      "text/html": [
       "<div>\n",
       "<style scoped>\n",
       "    .dataframe tbody tr th:only-of-type {\n",
       "        vertical-align: middle;\n",
       "    }\n",
       "\n",
       "    .dataframe tbody tr th {\n",
       "        vertical-align: top;\n",
       "    }\n",
       "\n",
       "    .dataframe thead th {\n",
       "        text-align: right;\n",
       "    }\n",
       "</style>\n",
       "<table border=\"1\" class=\"dataframe\">\n",
       "  <thead>\n",
       "    <tr style=\"text-align: right;\">\n",
       "      <th></th>\n",
       "      <th>PassengerId</th>\n",
       "      <th>Pclass</th>\n",
       "      <th>SibSp</th>\n",
       "      <th>Parch</th>\n",
       "      <th>0</th>\n",
       "      <th>1</th>\n",
       "    </tr>\n",
       "  </thead>\n",
       "  <tbody>\n",
       "    <tr>\n",
       "      <th>0</th>\n",
       "      <td>892.0</td>\n",
       "      <td>3.0</td>\n",
       "      <td>0.0</td>\n",
       "      <td>0.0</td>\n",
       "      <td>1.0</td>\n",
       "      <td>1.0</td>\n",
       "    </tr>\n",
       "    <tr>\n",
       "      <th>1</th>\n",
       "      <td>893.0</td>\n",
       "      <td>3.0</td>\n",
       "      <td>1.0</td>\n",
       "      <td>0.0</td>\n",
       "      <td>0.0</td>\n",
       "      <td>2.0</td>\n",
       "    </tr>\n",
       "    <tr>\n",
       "      <th>2</th>\n",
       "      <td>894.0</td>\n",
       "      <td>2.0</td>\n",
       "      <td>0.0</td>\n",
       "      <td>0.0</td>\n",
       "      <td>1.0</td>\n",
       "      <td>1.0</td>\n",
       "    </tr>\n",
       "    <tr>\n",
       "      <th>3</th>\n",
       "      <td>895.0</td>\n",
       "      <td>3.0</td>\n",
       "      <td>0.0</td>\n",
       "      <td>0.0</td>\n",
       "      <td>1.0</td>\n",
       "      <td>2.0</td>\n",
       "    </tr>\n",
       "    <tr>\n",
       "      <th>4</th>\n",
       "      <td>896.0</td>\n",
       "      <td>3.0</td>\n",
       "      <td>1.0</td>\n",
       "      <td>1.0</td>\n",
       "      <td>0.0</td>\n",
       "      <td>2.0</td>\n",
       "    </tr>\n",
       "    <tr>\n",
       "      <th>...</th>\n",
       "      <td>...</td>\n",
       "      <td>...</td>\n",
       "      <td>...</td>\n",
       "      <td>...</td>\n",
       "      <td>...</td>\n",
       "      <td>...</td>\n",
       "    </tr>\n",
       "    <tr>\n",
       "      <th>413</th>\n",
       "      <td>1305.0</td>\n",
       "      <td>3.0</td>\n",
       "      <td>0.0</td>\n",
       "      <td>0.0</td>\n",
       "      <td>1.0</td>\n",
       "      <td>2.0</td>\n",
       "    </tr>\n",
       "    <tr>\n",
       "      <th>414</th>\n",
       "      <td>1306.0</td>\n",
       "      <td>1.0</td>\n",
       "      <td>0.0</td>\n",
       "      <td>0.0</td>\n",
       "      <td>0.0</td>\n",
       "      <td>0.0</td>\n",
       "    </tr>\n",
       "    <tr>\n",
       "      <th>415</th>\n",
       "      <td>1307.0</td>\n",
       "      <td>3.0</td>\n",
       "      <td>0.0</td>\n",
       "      <td>0.0</td>\n",
       "      <td>1.0</td>\n",
       "      <td>2.0</td>\n",
       "    </tr>\n",
       "    <tr>\n",
       "      <th>416</th>\n",
       "      <td>1308.0</td>\n",
       "      <td>3.0</td>\n",
       "      <td>0.0</td>\n",
       "      <td>0.0</td>\n",
       "      <td>1.0</td>\n",
       "      <td>2.0</td>\n",
       "    </tr>\n",
       "    <tr>\n",
       "      <th>417</th>\n",
       "      <td>1309.0</td>\n",
       "      <td>3.0</td>\n",
       "      <td>1.0</td>\n",
       "      <td>1.0</td>\n",
       "      <td>1.0</td>\n",
       "      <td>0.0</td>\n",
       "    </tr>\n",
       "  </tbody>\n",
       "</table>\n",
       "<p>418 rows × 6 columns</p>\n",
       "</div>"
      ],
      "text/plain": [
       "     PassengerId  Pclass  SibSp  Parch    0    1\n",
       "0          892.0     3.0    0.0    0.0  1.0  1.0\n",
       "1          893.0     3.0    1.0    0.0  0.0  2.0\n",
       "2          894.0     2.0    0.0    0.0  1.0  1.0\n",
       "3          895.0     3.0    0.0    0.0  1.0  2.0\n",
       "4          896.0     3.0    1.0    1.0  0.0  2.0\n",
       "..           ...     ...    ...    ...  ...  ...\n",
       "413       1305.0     3.0    0.0    0.0  1.0  2.0\n",
       "414       1306.0     1.0    0.0    0.0  0.0  0.0\n",
       "415       1307.0     3.0    0.0    0.0  1.0  2.0\n",
       "416       1308.0     3.0    0.0    0.0  1.0  2.0\n",
       "417       1309.0     3.0    1.0    1.0  1.0  0.0\n",
       "\n",
       "[418 rows x 6 columns]"
      ]
     },
     "execution_count": 15,
     "metadata": {},
     "output_type": "execute_result"
    }
   ],
   "source": [
    "final_test"
   ]
  },
  {
   "cell_type": "code",
   "execution_count": 16,
   "id": "21195b92",
   "metadata": {
    "execution": {
     "iopub.execute_input": "2024-02-07T15:44:25.077551Z",
     "iopub.status.busy": "2024-02-07T15:44:25.077111Z",
     "iopub.status.idle": "2024-02-07T15:44:25.084991Z",
     "shell.execute_reply": "2024-02-07T15:44:25.083745Z"
    },
    "papermill": {
     "duration": 0.023174,
     "end_time": "2024-02-07T15:44:25.087984",
     "exception": false,
     "start_time": "2024-02-07T15:44:25.064810",
     "status": "completed"
    },
    "tags": []
   },
   "outputs": [],
   "source": [
    "from sklearn.model_selection import train_test_split\n",
    "X_train, X_valid, y_train, y_valid = train_test_split(X, y, train_size=0.8, test_size=0.2,random_state=0)"
   ]
  },
  {
   "cell_type": "code",
   "execution_count": 17,
   "id": "8f564482",
   "metadata": {
    "execution": {
     "iopub.execute_input": "2024-02-07T15:44:25.111534Z",
     "iopub.status.busy": "2024-02-07T15:44:25.111040Z",
     "iopub.status.idle": "2024-02-07T15:44:25.119149Z",
     "shell.execute_reply": "2024-02-07T15:44:25.117951Z"
    },
    "papermill": {
     "duration": 0.023175,
     "end_time": "2024-02-07T15:44:25.121820",
     "exception": false,
     "start_time": "2024-02-07T15:44:25.098645",
     "status": "completed"
    },
    "tags": []
   },
   "outputs": [
    {
     "data": {
      "text/plain": [
       "PassengerId    float64\n",
       "Pclass         float64\n",
       "SibSp          float64\n",
       "Parch          float64\n",
       "0              float64\n",
       "1              float64\n",
       "dtype: object"
      ]
     },
     "execution_count": 17,
     "metadata": {},
     "output_type": "execute_result"
    }
   ],
   "source": [
    "X_train.dtypes"
   ]
  },
  {
   "cell_type": "code",
   "execution_count": 18,
   "id": "7732c69f",
   "metadata": {
    "execution": {
     "iopub.execute_input": "2024-02-07T15:44:25.144919Z",
     "iopub.status.busy": "2024-02-07T15:44:25.144465Z",
     "iopub.status.idle": "2024-02-07T15:44:25.861352Z",
     "shell.execute_reply": "2024-02-07T15:44:25.860222Z"
    },
    "papermill": {
     "duration": 0.731692,
     "end_time": "2024-02-07T15:44:25.864148",
     "exception": false,
     "start_time": "2024-02-07T15:44:25.132456",
     "status": "completed"
    },
    "tags": []
   },
   "outputs": [
    {
     "name": "stdout",
     "output_type": "stream",
     "text": [
      "[0]\tvalidation_0-rmse:0.47538\n",
      "[1]\tvalidation_0-rmse:0.46510\n",
      "[2]\tvalidation_0-rmse:0.45552\n",
      "[3]\tvalidation_0-rmse:0.44676\n",
      "[4]\tvalidation_0-rmse:0.43890\n",
      "[5]\tvalidation_0-rmse:0.43173\n",
      "[6]\tvalidation_0-rmse:0.42505\n",
      "[7]\tvalidation_0-rmse:0.41903\n",
      "[8]\tvalidation_0-rmse:0.41341\n",
      "[9]\tvalidation_0-rmse:0.40846\n",
      "[10]\tvalidation_0-rmse:0.40409\n",
      "[11]\tvalidation_0-rmse:0.39998\n",
      "[12]\tvalidation_0-rmse:0.39605\n",
      "[13]\tvalidation_0-rmse:0.39301\n",
      "[14]\tvalidation_0-rmse:0.39071\n",
      "[15]\tvalidation_0-rmse:0.38802\n",
      "[16]\tvalidation_0-rmse:0.38626\n",
      "[17]\tvalidation_0-rmse:0.38419\n",
      "[18]\tvalidation_0-rmse:0.38247\n",
      "[19]\tvalidation_0-rmse:0.38091\n",
      "[20]\tvalidation_0-rmse:0.37931\n",
      "[21]\tvalidation_0-rmse:0.37807\n",
      "[22]\tvalidation_0-rmse:0.37640\n",
      "[23]\tvalidation_0-rmse:0.37537\n",
      "[24]\tvalidation_0-rmse:0.37422\n",
      "[25]\tvalidation_0-rmse:0.37342\n",
      "[26]\tvalidation_0-rmse:0.37309\n",
      "[27]\tvalidation_0-rmse:0.37252\n",
      "[28]\tvalidation_0-rmse:0.37180\n",
      "[29]\tvalidation_0-rmse:0.37133\n",
      "[30]\tvalidation_0-rmse:0.37107\n",
      "[31]\tvalidation_0-rmse:0.37072\n",
      "[32]\tvalidation_0-rmse:0.37030\n",
      "[33]\tvalidation_0-rmse:0.37041\n",
      "[34]\tvalidation_0-rmse:0.37033\n",
      "[35]\tvalidation_0-rmse:0.37012\n",
      "[36]\tvalidation_0-rmse:0.36979\n",
      "[37]\tvalidation_0-rmse:0.36976\n",
      "[38]\tvalidation_0-rmse:0.36954\n",
      "[39]\tvalidation_0-rmse:0.36953\n",
      "[40]\tvalidation_0-rmse:0.36939\n",
      "[41]\tvalidation_0-rmse:0.36938\n",
      "[42]\tvalidation_0-rmse:0.36930\n",
      "[43]\tvalidation_0-rmse:0.36939\n"
     ]
    },
    {
     "name": "stderr",
     "output_type": "stream",
     "text": [
      "/opt/conda/lib/python3.10/site-packages/xgboost/sklearn.py:889: UserWarning: `early_stopping_rounds` in `fit` method is deprecated for better compatibility with scikit-learn, use `early_stopping_rounds` in constructor or`set_params` instead.\n",
      "  warnings.warn(\n"
     ]
    },
    {
     "name": "stdout",
     "output_type": "stream",
     "text": [
      "[44]\tvalidation_0-rmse:0.36930\n",
      "[45]\tvalidation_0-rmse:0.36922\n",
      "[46]\tvalidation_0-rmse:0.36928\n",
      "[47]\tvalidation_0-rmse:0.36939\n",
      "[48]\tvalidation_0-rmse:0.36945\n",
      "[49]\tvalidation_0-rmse:0.36921\n",
      "[50]\tvalidation_0-rmse:0.36911\n",
      "[51]\tvalidation_0-rmse:0.36903\n",
      "[52]\tvalidation_0-rmse:0.36899\n",
      "[53]\tvalidation_0-rmse:0.36884\n",
      "[54]\tvalidation_0-rmse:0.36884\n",
      "[55]\tvalidation_0-rmse:0.36874\n",
      "[56]\tvalidation_0-rmse:0.36886\n",
      "[57]\tvalidation_0-rmse:0.36878\n",
      "[58]\tvalidation_0-rmse:0.36893\n",
      "[59]\tvalidation_0-rmse:0.36898\n"
     ]
    },
    {
     "data": {
      "text/html": [
       "<style>#sk-container-id-1 {color: black;background-color: white;}#sk-container-id-1 pre{padding: 0;}#sk-container-id-1 div.sk-toggleable {background-color: white;}#sk-container-id-1 label.sk-toggleable__label {cursor: pointer;display: block;width: 100%;margin-bottom: 0;padding: 0.3em;box-sizing: border-box;text-align: center;}#sk-container-id-1 label.sk-toggleable__label-arrow:before {content: \"▸\";float: left;margin-right: 0.25em;color: #696969;}#sk-container-id-1 label.sk-toggleable__label-arrow:hover:before {color: black;}#sk-container-id-1 div.sk-estimator:hover label.sk-toggleable__label-arrow:before {color: black;}#sk-container-id-1 div.sk-toggleable__content {max-height: 0;max-width: 0;overflow: hidden;text-align: left;background-color: #f0f8ff;}#sk-container-id-1 div.sk-toggleable__content pre {margin: 0.2em;color: black;border-radius: 0.25em;background-color: #f0f8ff;}#sk-container-id-1 input.sk-toggleable__control:checked~div.sk-toggleable__content {max-height: 200px;max-width: 100%;overflow: auto;}#sk-container-id-1 input.sk-toggleable__control:checked~label.sk-toggleable__label-arrow:before {content: \"▾\";}#sk-container-id-1 div.sk-estimator input.sk-toggleable__control:checked~label.sk-toggleable__label {background-color: #d4ebff;}#sk-container-id-1 div.sk-label input.sk-toggleable__control:checked~label.sk-toggleable__label {background-color: #d4ebff;}#sk-container-id-1 input.sk-hidden--visually {border: 0;clip: rect(1px 1px 1px 1px);clip: rect(1px, 1px, 1px, 1px);height: 1px;margin: -1px;overflow: hidden;padding: 0;position: absolute;width: 1px;}#sk-container-id-1 div.sk-estimator {font-family: monospace;background-color: #f0f8ff;border: 1px dotted black;border-radius: 0.25em;box-sizing: border-box;margin-bottom: 0.5em;}#sk-container-id-1 div.sk-estimator:hover {background-color: #d4ebff;}#sk-container-id-1 div.sk-parallel-item::after {content: \"\";width: 100%;border-bottom: 1px solid gray;flex-grow: 1;}#sk-container-id-1 div.sk-label:hover label.sk-toggleable__label {background-color: #d4ebff;}#sk-container-id-1 div.sk-serial::before {content: \"\";position: absolute;border-left: 1px solid gray;box-sizing: border-box;top: 0;bottom: 0;left: 50%;z-index: 0;}#sk-container-id-1 div.sk-serial {display: flex;flex-direction: column;align-items: center;background-color: white;padding-right: 0.2em;padding-left: 0.2em;position: relative;}#sk-container-id-1 div.sk-item {position: relative;z-index: 1;}#sk-container-id-1 div.sk-parallel {display: flex;align-items: stretch;justify-content: center;background-color: white;position: relative;}#sk-container-id-1 div.sk-item::before, #sk-container-id-1 div.sk-parallel-item::before {content: \"\";position: absolute;border-left: 1px solid gray;box-sizing: border-box;top: 0;bottom: 0;left: 50%;z-index: -1;}#sk-container-id-1 div.sk-parallel-item {display: flex;flex-direction: column;z-index: 1;position: relative;background-color: white;}#sk-container-id-1 div.sk-parallel-item:first-child::after {align-self: flex-end;width: 50%;}#sk-container-id-1 div.sk-parallel-item:last-child::after {align-self: flex-start;width: 50%;}#sk-container-id-1 div.sk-parallel-item:only-child::after {width: 0;}#sk-container-id-1 div.sk-dashed-wrapped {border: 1px dashed gray;margin: 0 0.4em 0.5em 0.4em;box-sizing: border-box;padding-bottom: 0.4em;background-color: white;}#sk-container-id-1 div.sk-label label {font-family: monospace;font-weight: bold;display: inline-block;line-height: 1.2em;}#sk-container-id-1 div.sk-label-container {text-align: center;}#sk-container-id-1 div.sk-container {/* jupyter's `normalize.less` sets `[hidden] { display: none; }` but bootstrap.min.css set `[hidden] { display: none !important; }` so we also need the `!important` here to be able to override the default hidden behavior on the sphinx rendered scikit-learn.org. See: https://github.com/scikit-learn/scikit-learn/issues/21755 */display: inline-block !important;position: relative;}#sk-container-id-1 div.sk-text-repr-fallback {display: none;}</style><div id=\"sk-container-id-1\" class=\"sk-top-container\"><div class=\"sk-text-repr-fallback\"><pre>XGBRegressor(base_score=None, booster=None, callbacks=None,\n",
       "             colsample_bylevel=None, colsample_bynode=None,\n",
       "             colsample_bytree=None, device=None, early_stopping_rounds=None,\n",
       "             enable_categorical=False, eval_metric=None, feature_types=None,\n",
       "             gamma=None, grow_policy=None, importance_type=None,\n",
       "             interaction_constraints=None, learning_rate=0.05, max_bin=None,\n",
       "             max_cat_threshold=None, max_cat_to_onehot=None,\n",
       "             max_delta_step=None, max_depth=None, max_leaves=None,\n",
       "             min_child_weight=None, missing=nan, monotone_constraints=None,\n",
       "             multi_strategy=None, n_estimators=500, n_jobs=None,\n",
       "             num_parallel_tree=None, random_state=None, ...)</pre><b>In a Jupyter environment, please rerun this cell to show the HTML representation or trust the notebook. <br />On GitHub, the HTML representation is unable to render, please try loading this page with nbviewer.org.</b></div><div class=\"sk-container\" hidden><div class=\"sk-item\"><div class=\"sk-estimator sk-toggleable\"><input class=\"sk-toggleable__control sk-hidden--visually\" id=\"sk-estimator-id-1\" type=\"checkbox\" checked><label for=\"sk-estimator-id-1\" class=\"sk-toggleable__label sk-toggleable__label-arrow\">XGBRegressor</label><div class=\"sk-toggleable__content\"><pre>XGBRegressor(base_score=None, booster=None, callbacks=None,\n",
       "             colsample_bylevel=None, colsample_bynode=None,\n",
       "             colsample_bytree=None, device=None, early_stopping_rounds=None,\n",
       "             enable_categorical=False, eval_metric=None, feature_types=None,\n",
       "             gamma=None, grow_policy=None, importance_type=None,\n",
       "             interaction_constraints=None, learning_rate=0.05, max_bin=None,\n",
       "             max_cat_threshold=None, max_cat_to_onehot=None,\n",
       "             max_delta_step=None, max_depth=None, max_leaves=None,\n",
       "             min_child_weight=None, missing=nan, monotone_constraints=None,\n",
       "             multi_strategy=None, n_estimators=500, n_jobs=None,\n",
       "             num_parallel_tree=None, random_state=None, ...)</pre></div></div></div></div></div>"
      ],
      "text/plain": [
       "XGBRegressor(base_score=None, booster=None, callbacks=None,\n",
       "             colsample_bylevel=None, colsample_bynode=None,\n",
       "             colsample_bytree=None, device=None, early_stopping_rounds=None,\n",
       "             enable_categorical=False, eval_metric=None, feature_types=None,\n",
       "             gamma=None, grow_policy=None, importance_type=None,\n",
       "             interaction_constraints=None, learning_rate=0.05, max_bin=None,\n",
       "             max_cat_threshold=None, max_cat_to_onehot=None,\n",
       "             max_delta_step=None, max_depth=None, max_leaves=None,\n",
       "             min_child_weight=None, missing=nan, monotone_constraints=None,\n",
       "             multi_strategy=None, n_estimators=500, n_jobs=None,\n",
       "             num_parallel_tree=None, random_state=None, ...)"
      ]
     },
     "execution_count": 18,
     "metadata": {},
     "output_type": "execute_result"
    }
   ],
   "source": [
    "from xgboost import XGBRegressor\n",
    "my_model = XGBRegressor(n_estimators=500, learning_rate=0.05)\n",
    "my_model.fit(X_train, y_train,early_stopping_rounds=5, \n",
    "             eval_set=[(X_valid, y_valid)], \n",
    "             verbose=True)\n"
   ]
  },
  {
   "cell_type": "code",
   "execution_count": 19,
   "id": "fbd54c0a",
   "metadata": {
    "execution": {
     "iopub.execute_input": "2024-02-07T15:44:25.903798Z",
     "iopub.status.busy": "2024-02-07T15:44:25.903099Z",
     "iopub.status.idle": "2024-02-07T15:44:25.909411Z",
     "shell.execute_reply": "2024-02-07T15:44:25.908500Z"
    },
    "papermill": {
     "duration": 0.028778,
     "end_time": "2024-02-07T15:44:25.911619",
     "exception": false,
     "start_time": "2024-02-07T15:44:25.882841",
     "status": "completed"
    },
    "tags": []
   },
   "outputs": [
    {
     "data": {
      "text/plain": [
       "55"
      ]
     },
     "execution_count": 19,
     "metadata": {},
     "output_type": "execute_result"
    }
   ],
   "source": [
    "my_model.best_iteration"
   ]
  },
  {
   "cell_type": "code",
   "execution_count": 20,
   "id": "54ac72ea",
   "metadata": {
    "execution": {
     "iopub.execute_input": "2024-02-07T15:44:25.949612Z",
     "iopub.status.busy": "2024-02-07T15:44:25.948101Z",
     "iopub.status.idle": "2024-02-07T15:44:25.992966Z",
     "shell.execute_reply": "2024-02-07T15:44:25.991930Z"
    },
    "papermill": {
     "duration": 0.06625,
     "end_time": "2024-02-07T15:44:25.995549",
     "exception": false,
     "start_time": "2024-02-07T15:44:25.929299",
     "status": "completed"
    },
    "tags": []
   },
   "outputs": [
    {
     "data": {
      "text/html": [
       "<style>#sk-container-id-2 {color: black;background-color: white;}#sk-container-id-2 pre{padding: 0;}#sk-container-id-2 div.sk-toggleable {background-color: white;}#sk-container-id-2 label.sk-toggleable__label {cursor: pointer;display: block;width: 100%;margin-bottom: 0;padding: 0.3em;box-sizing: border-box;text-align: center;}#sk-container-id-2 label.sk-toggleable__label-arrow:before {content: \"▸\";float: left;margin-right: 0.25em;color: #696969;}#sk-container-id-2 label.sk-toggleable__label-arrow:hover:before {color: black;}#sk-container-id-2 div.sk-estimator:hover label.sk-toggleable__label-arrow:before {color: black;}#sk-container-id-2 div.sk-toggleable__content {max-height: 0;max-width: 0;overflow: hidden;text-align: left;background-color: #f0f8ff;}#sk-container-id-2 div.sk-toggleable__content pre {margin: 0.2em;color: black;border-radius: 0.25em;background-color: #f0f8ff;}#sk-container-id-2 input.sk-toggleable__control:checked~div.sk-toggleable__content {max-height: 200px;max-width: 100%;overflow: auto;}#sk-container-id-2 input.sk-toggleable__control:checked~label.sk-toggleable__label-arrow:before {content: \"▾\";}#sk-container-id-2 div.sk-estimator input.sk-toggleable__control:checked~label.sk-toggleable__label {background-color: #d4ebff;}#sk-container-id-2 div.sk-label input.sk-toggleable__control:checked~label.sk-toggleable__label {background-color: #d4ebff;}#sk-container-id-2 input.sk-hidden--visually {border: 0;clip: rect(1px 1px 1px 1px);clip: rect(1px, 1px, 1px, 1px);height: 1px;margin: -1px;overflow: hidden;padding: 0;position: absolute;width: 1px;}#sk-container-id-2 div.sk-estimator {font-family: monospace;background-color: #f0f8ff;border: 1px dotted black;border-radius: 0.25em;box-sizing: border-box;margin-bottom: 0.5em;}#sk-container-id-2 div.sk-estimator:hover {background-color: #d4ebff;}#sk-container-id-2 div.sk-parallel-item::after {content: \"\";width: 100%;border-bottom: 1px solid gray;flex-grow: 1;}#sk-container-id-2 div.sk-label:hover label.sk-toggleable__label {background-color: #d4ebff;}#sk-container-id-2 div.sk-serial::before {content: \"\";position: absolute;border-left: 1px solid gray;box-sizing: border-box;top: 0;bottom: 0;left: 50%;z-index: 0;}#sk-container-id-2 div.sk-serial {display: flex;flex-direction: column;align-items: center;background-color: white;padding-right: 0.2em;padding-left: 0.2em;position: relative;}#sk-container-id-2 div.sk-item {position: relative;z-index: 1;}#sk-container-id-2 div.sk-parallel {display: flex;align-items: stretch;justify-content: center;background-color: white;position: relative;}#sk-container-id-2 div.sk-item::before, #sk-container-id-2 div.sk-parallel-item::before {content: \"\";position: absolute;border-left: 1px solid gray;box-sizing: border-box;top: 0;bottom: 0;left: 50%;z-index: -1;}#sk-container-id-2 div.sk-parallel-item {display: flex;flex-direction: column;z-index: 1;position: relative;background-color: white;}#sk-container-id-2 div.sk-parallel-item:first-child::after {align-self: flex-end;width: 50%;}#sk-container-id-2 div.sk-parallel-item:last-child::after {align-self: flex-start;width: 50%;}#sk-container-id-2 div.sk-parallel-item:only-child::after {width: 0;}#sk-container-id-2 div.sk-dashed-wrapped {border: 1px dashed gray;margin: 0 0.4em 0.5em 0.4em;box-sizing: border-box;padding-bottom: 0.4em;background-color: white;}#sk-container-id-2 div.sk-label label {font-family: monospace;font-weight: bold;display: inline-block;line-height: 1.2em;}#sk-container-id-2 div.sk-label-container {text-align: center;}#sk-container-id-2 div.sk-container {/* jupyter's `normalize.less` sets `[hidden] { display: none; }` but bootstrap.min.css set `[hidden] { display: none !important; }` so we also need the `!important` here to be able to override the default hidden behavior on the sphinx rendered scikit-learn.org. See: https://github.com/scikit-learn/scikit-learn/issues/21755 */display: inline-block !important;position: relative;}#sk-container-id-2 div.sk-text-repr-fallback {display: none;}</style><div id=\"sk-container-id-2\" class=\"sk-top-container\"><div class=\"sk-text-repr-fallback\"><pre>XGBRegressor(base_score=None, booster=None, callbacks=None,\n",
       "             colsample_bylevel=None, colsample_bynode=None,\n",
       "             colsample_bytree=None, device=None, early_stopping_rounds=None,\n",
       "             enable_categorical=False, eval_metric=None, feature_types=None,\n",
       "             gamma=None, grow_policy=None, importance_type=None,\n",
       "             interaction_constraints=None, learning_rate=0.05, max_bin=None,\n",
       "             max_cat_threshold=None, max_cat_to_onehot=None,\n",
       "             max_delta_step=None, max_depth=None, max_leaves=None,\n",
       "             min_child_weight=None, missing=nan, monotone_constraints=None,\n",
       "             multi_strategy=None, n_estimators=25, n_jobs=None,\n",
       "             num_parallel_tree=None, random_state=None, ...)</pre><b>In a Jupyter environment, please rerun this cell to show the HTML representation or trust the notebook. <br />On GitHub, the HTML representation is unable to render, please try loading this page with nbviewer.org.</b></div><div class=\"sk-container\" hidden><div class=\"sk-item\"><div class=\"sk-estimator sk-toggleable\"><input class=\"sk-toggleable__control sk-hidden--visually\" id=\"sk-estimator-id-2\" type=\"checkbox\" checked><label for=\"sk-estimator-id-2\" class=\"sk-toggleable__label sk-toggleable__label-arrow\">XGBRegressor</label><div class=\"sk-toggleable__content\"><pre>XGBRegressor(base_score=None, booster=None, callbacks=None,\n",
       "             colsample_bylevel=None, colsample_bynode=None,\n",
       "             colsample_bytree=None, device=None, early_stopping_rounds=None,\n",
       "             enable_categorical=False, eval_metric=None, feature_types=None,\n",
       "             gamma=None, grow_policy=None, importance_type=None,\n",
       "             interaction_constraints=None, learning_rate=0.05, max_bin=None,\n",
       "             max_cat_threshold=None, max_cat_to_onehot=None,\n",
       "             max_delta_step=None, max_depth=None, max_leaves=None,\n",
       "             min_child_weight=None, missing=nan, monotone_constraints=None,\n",
       "             multi_strategy=None, n_estimators=25, n_jobs=None,\n",
       "             num_parallel_tree=None, random_state=None, ...)</pre></div></div></div></div></div>"
      ],
      "text/plain": [
       "XGBRegressor(base_score=None, booster=None, callbacks=None,\n",
       "             colsample_bylevel=None, colsample_bynode=None,\n",
       "             colsample_bytree=None, device=None, early_stopping_rounds=None,\n",
       "             enable_categorical=False, eval_metric=None, feature_types=None,\n",
       "             gamma=None, grow_policy=None, importance_type=None,\n",
       "             interaction_constraints=None, learning_rate=0.05, max_bin=None,\n",
       "             max_cat_threshold=None, max_cat_to_onehot=None,\n",
       "             max_delta_step=None, max_depth=None, max_leaves=None,\n",
       "             min_child_weight=None, missing=nan, monotone_constraints=None,\n",
       "             multi_strategy=None, n_estimators=25, n_jobs=None,\n",
       "             num_parallel_tree=None, random_state=None, ...)"
      ]
     },
     "execution_count": 20,
     "metadata": {},
     "output_type": "execute_result"
    }
   ],
   "source": [
    "\n",
    "my_model = XGBRegressor(n_estimators=25, learning_rate=0.05)\n",
    "my_model.fit(X,y)"
   ]
  },
  {
   "cell_type": "code",
   "execution_count": 21,
   "id": "e8d7a8ad",
   "metadata": {
    "execution": {
     "iopub.execute_input": "2024-02-07T15:44:26.034334Z",
     "iopub.status.busy": "2024-02-07T15:44:26.033899Z",
     "iopub.status.idle": "2024-02-07T15:44:26.045332Z",
     "shell.execute_reply": "2024-02-07T15:44:26.044354Z"
    },
    "papermill": {
     "duration": 0.033828,
     "end_time": "2024-02-07T15:44:26.047943",
     "exception": false,
     "start_time": "2024-02-07T15:44:26.014115",
     "status": "completed"
    },
    "tags": []
   },
   "outputs": [],
   "source": [
    "y_pred_probs  = my_model.predict(final_test)"
   ]
  },
  {
   "cell_type": "code",
   "execution_count": 22,
   "id": "3e8c4d53",
   "metadata": {
    "execution": {
     "iopub.execute_input": "2024-02-07T15:44:26.087688Z",
     "iopub.status.busy": "2024-02-07T15:44:26.087200Z",
     "iopub.status.idle": "2024-02-07T15:44:26.093545Z",
     "shell.execute_reply": "2024-02-07T15:44:26.092174Z"
    },
    "papermill": {
     "duration": 0.028535,
     "end_time": "2024-02-07T15:44:26.096309",
     "exception": false,
     "start_time": "2024-02-07T15:44:26.067774",
     "status": "completed"
    },
    "tags": []
   },
   "outputs": [],
   "source": [
    "threshold = 0.5\n",
    "y_pred_binary = (y_pred_probs >= threshold).astype(int)"
   ]
  },
  {
   "cell_type": "code",
   "execution_count": null,
   "id": "abe94516",
   "metadata": {
    "papermill": {
     "duration": 0.017014,
     "end_time": "2024-02-07T15:44:26.131519",
     "exception": false,
     "start_time": "2024-02-07T15:44:26.114505",
     "status": "completed"
    },
    "tags": []
   },
   "outputs": [],
   "source": [
    "\n"
   ]
  },
  {
   "cell_type": "code",
   "execution_count": 23,
   "id": "3f068691",
   "metadata": {
    "execution": {
     "iopub.execute_input": "2024-02-07T15:44:26.168030Z",
     "iopub.status.busy": "2024-02-07T15:44:26.167581Z",
     "iopub.status.idle": "2024-02-07T15:44:26.191081Z",
     "shell.execute_reply": "2024-02-07T15:44:26.189711Z"
    },
    "papermill": {
     "duration": 0.044787,
     "end_time": "2024-02-07T15:44:26.193504",
     "exception": false,
     "start_time": "2024-02-07T15:44:26.148717",
     "status": "completed"
    },
    "tags": []
   },
   "outputs": [
    {
     "data": {
      "text/html": [
       "<div>\n",
       "<style scoped>\n",
       "    .dataframe tbody tr th:only-of-type {\n",
       "        vertical-align: middle;\n",
       "    }\n",
       "\n",
       "    .dataframe tbody tr th {\n",
       "        vertical-align: top;\n",
       "    }\n",
       "\n",
       "    .dataframe thead th {\n",
       "        text-align: right;\n",
       "    }\n",
       "</style>\n",
       "<table border=\"1\" class=\"dataframe\">\n",
       "  <thead>\n",
       "    <tr style=\"text-align: right;\">\n",
       "      <th></th>\n",
       "      <th>PassengerId</th>\n",
       "      <th>Pclass</th>\n",
       "      <th>Name</th>\n",
       "      <th>Sex</th>\n",
       "      <th>Age</th>\n",
       "      <th>SibSp</th>\n",
       "      <th>Parch</th>\n",
       "      <th>Ticket</th>\n",
       "      <th>Fare</th>\n",
       "      <th>Cabin</th>\n",
       "      <th>Embarked</th>\n",
       "    </tr>\n",
       "  </thead>\n",
       "  <tbody>\n",
       "    <tr>\n",
       "      <th>0</th>\n",
       "      <td>892</td>\n",
       "      <td>3</td>\n",
       "      <td>Kelly, Mr. James</td>\n",
       "      <td>male</td>\n",
       "      <td>34.5</td>\n",
       "      <td>0</td>\n",
       "      <td>0</td>\n",
       "      <td>330911</td>\n",
       "      <td>7.8292</td>\n",
       "      <td>NaN</td>\n",
       "      <td>Q</td>\n",
       "    </tr>\n",
       "    <tr>\n",
       "      <th>1</th>\n",
       "      <td>893</td>\n",
       "      <td>3</td>\n",
       "      <td>Wilkes, Mrs. James (Ellen Needs)</td>\n",
       "      <td>female</td>\n",
       "      <td>47.0</td>\n",
       "      <td>1</td>\n",
       "      <td>0</td>\n",
       "      <td>363272</td>\n",
       "      <td>7.0000</td>\n",
       "      <td>NaN</td>\n",
       "      <td>S</td>\n",
       "    </tr>\n",
       "    <tr>\n",
       "      <th>2</th>\n",
       "      <td>894</td>\n",
       "      <td>2</td>\n",
       "      <td>Myles, Mr. Thomas Francis</td>\n",
       "      <td>male</td>\n",
       "      <td>62.0</td>\n",
       "      <td>0</td>\n",
       "      <td>0</td>\n",
       "      <td>240276</td>\n",
       "      <td>9.6875</td>\n",
       "      <td>NaN</td>\n",
       "      <td>Q</td>\n",
       "    </tr>\n",
       "    <tr>\n",
       "      <th>3</th>\n",
       "      <td>895</td>\n",
       "      <td>3</td>\n",
       "      <td>Wirz, Mr. Albert</td>\n",
       "      <td>male</td>\n",
       "      <td>27.0</td>\n",
       "      <td>0</td>\n",
       "      <td>0</td>\n",
       "      <td>315154</td>\n",
       "      <td>8.6625</td>\n",
       "      <td>NaN</td>\n",
       "      <td>S</td>\n",
       "    </tr>\n",
       "    <tr>\n",
       "      <th>4</th>\n",
       "      <td>896</td>\n",
       "      <td>3</td>\n",
       "      <td>Hirvonen, Mrs. Alexander (Helga E Lindqvist)</td>\n",
       "      <td>female</td>\n",
       "      <td>22.0</td>\n",
       "      <td>1</td>\n",
       "      <td>1</td>\n",
       "      <td>3101298</td>\n",
       "      <td>12.2875</td>\n",
       "      <td>NaN</td>\n",
       "      <td>S</td>\n",
       "    </tr>\n",
       "    <tr>\n",
       "      <th>...</th>\n",
       "      <td>...</td>\n",
       "      <td>...</td>\n",
       "      <td>...</td>\n",
       "      <td>...</td>\n",
       "      <td>...</td>\n",
       "      <td>...</td>\n",
       "      <td>...</td>\n",
       "      <td>...</td>\n",
       "      <td>...</td>\n",
       "      <td>...</td>\n",
       "      <td>...</td>\n",
       "    </tr>\n",
       "    <tr>\n",
       "      <th>413</th>\n",
       "      <td>1305</td>\n",
       "      <td>3</td>\n",
       "      <td>Spector, Mr. Woolf</td>\n",
       "      <td>male</td>\n",
       "      <td>NaN</td>\n",
       "      <td>0</td>\n",
       "      <td>0</td>\n",
       "      <td>A.5. 3236</td>\n",
       "      <td>8.0500</td>\n",
       "      <td>NaN</td>\n",
       "      <td>S</td>\n",
       "    </tr>\n",
       "    <tr>\n",
       "      <th>414</th>\n",
       "      <td>1306</td>\n",
       "      <td>1</td>\n",
       "      <td>Oliva y Ocana, Dona. Fermina</td>\n",
       "      <td>female</td>\n",
       "      <td>39.0</td>\n",
       "      <td>0</td>\n",
       "      <td>0</td>\n",
       "      <td>PC 17758</td>\n",
       "      <td>108.9000</td>\n",
       "      <td>C105</td>\n",
       "      <td>C</td>\n",
       "    </tr>\n",
       "    <tr>\n",
       "      <th>415</th>\n",
       "      <td>1307</td>\n",
       "      <td>3</td>\n",
       "      <td>Saether, Mr. Simon Sivertsen</td>\n",
       "      <td>male</td>\n",
       "      <td>38.5</td>\n",
       "      <td>0</td>\n",
       "      <td>0</td>\n",
       "      <td>SOTON/O.Q. 3101262</td>\n",
       "      <td>7.2500</td>\n",
       "      <td>NaN</td>\n",
       "      <td>S</td>\n",
       "    </tr>\n",
       "    <tr>\n",
       "      <th>416</th>\n",
       "      <td>1308</td>\n",
       "      <td>3</td>\n",
       "      <td>Ware, Mr. Frederick</td>\n",
       "      <td>male</td>\n",
       "      <td>NaN</td>\n",
       "      <td>0</td>\n",
       "      <td>0</td>\n",
       "      <td>359309</td>\n",
       "      <td>8.0500</td>\n",
       "      <td>NaN</td>\n",
       "      <td>S</td>\n",
       "    </tr>\n",
       "    <tr>\n",
       "      <th>417</th>\n",
       "      <td>1309</td>\n",
       "      <td>3</td>\n",
       "      <td>Peter, Master. Michael J</td>\n",
       "      <td>male</td>\n",
       "      <td>NaN</td>\n",
       "      <td>1</td>\n",
       "      <td>1</td>\n",
       "      <td>2668</td>\n",
       "      <td>22.3583</td>\n",
       "      <td>NaN</td>\n",
       "      <td>C</td>\n",
       "    </tr>\n",
       "  </tbody>\n",
       "</table>\n",
       "<p>418 rows × 11 columns</p>\n",
       "</div>"
      ],
      "text/plain": [
       "     PassengerId  Pclass                                          Name  \\\n",
       "0            892       3                              Kelly, Mr. James   \n",
       "1            893       3              Wilkes, Mrs. James (Ellen Needs)   \n",
       "2            894       2                     Myles, Mr. Thomas Francis   \n",
       "3            895       3                              Wirz, Mr. Albert   \n",
       "4            896       3  Hirvonen, Mrs. Alexander (Helga E Lindqvist)   \n",
       "..           ...     ...                                           ...   \n",
       "413         1305       3                            Spector, Mr. Woolf   \n",
       "414         1306       1                  Oliva y Ocana, Dona. Fermina   \n",
       "415         1307       3                  Saether, Mr. Simon Sivertsen   \n",
       "416         1308       3                           Ware, Mr. Frederick   \n",
       "417         1309       3                      Peter, Master. Michael J   \n",
       "\n",
       "        Sex   Age  SibSp  Parch              Ticket      Fare Cabin Embarked  \n",
       "0      male  34.5      0      0              330911    7.8292   NaN        Q  \n",
       "1    female  47.0      1      0              363272    7.0000   NaN        S  \n",
       "2      male  62.0      0      0              240276    9.6875   NaN        Q  \n",
       "3      male  27.0      0      0              315154    8.6625   NaN        S  \n",
       "4    female  22.0      1      1             3101298   12.2875   NaN        S  \n",
       "..      ...   ...    ...    ...                 ...       ...   ...      ...  \n",
       "413    male   NaN      0      0           A.5. 3236    8.0500   NaN        S  \n",
       "414  female  39.0      0      0            PC 17758  108.9000  C105        C  \n",
       "415    male  38.5      0      0  SOTON/O.Q. 3101262    7.2500   NaN        S  \n",
       "416    male   NaN      0      0              359309    8.0500   NaN        S  \n",
       "417    male   NaN      1      1                2668   22.3583   NaN        C  \n",
       "\n",
       "[418 rows x 11 columns]"
      ]
     },
     "execution_count": 23,
     "metadata": {},
     "output_type": "execute_result"
    }
   ],
   "source": [
    "test_data"
   ]
  },
  {
   "cell_type": "code",
   "execution_count": 24,
   "id": "10871027",
   "metadata": {
    "execution": {
     "iopub.execute_input": "2024-02-07T15:44:26.231558Z",
     "iopub.status.busy": "2024-02-07T15:44:26.230297Z",
     "iopub.status.idle": "2024-02-07T15:44:26.241709Z",
     "shell.execute_reply": "2024-02-07T15:44:26.240696Z"
    },
    "papermill": {
     "duration": 0.032909,
     "end_time": "2024-02-07T15:44:26.244134",
     "exception": false,
     "start_time": "2024-02-07T15:44:26.211225",
     "status": "completed"
    },
    "tags": []
   },
   "outputs": [
    {
     "name": "stdout",
     "output_type": "stream",
     "text": [
      "Your submission was successfully saved!\n"
     ]
    }
   ],
   "source": [
    "output = pd.DataFrame({'PassengerId': test_data.PassengerId, 'Survived': y_pred_binary})\n",
    "output.to_csv('submission.csv', index=False)\n",
    "print(\"Your submission was successfully saved!\")"
   ]
  }
 ],
 "metadata": {
  "kaggle": {
   "accelerator": "none",
   "dataSources": [
    {
     "databundleVersionId": 26502,
     "sourceId": 3136,
     "sourceType": "competition"
    }
   ],
   "dockerImageVersionId": 30646,
   "isGpuEnabled": false,
   "isInternetEnabled": true,
   "language": "python",
   "sourceType": "notebook"
  },
  "kernelspec": {
   "display_name": "Python 3",
   "language": "python",
   "name": "python3"
  },
  "language_info": {
   "codemirror_mode": {
    "name": "ipython",
    "version": 3
   },
   "file_extension": ".py",
   "mimetype": "text/x-python",
   "name": "python",
   "nbconvert_exporter": "python",
   "pygments_lexer": "ipython3",
   "version": "3.10.13"
  },
  "papermill": {
   "default_parameters": {},
   "duration": 9.457643,
   "end_time": "2024-02-07T15:44:27.185789",
   "environment_variables": {},
   "exception": null,
   "input_path": "__notebook__.ipynb",
   "output_path": "__notebook__.ipynb",
   "parameters": {},
   "start_time": "2024-02-07T15:44:17.728146",
   "version": "2.5.0"
  }
 },
 "nbformat": 4,
 "nbformat_minor": 5
}
